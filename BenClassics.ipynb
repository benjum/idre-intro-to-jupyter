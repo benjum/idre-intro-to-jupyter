{
 "cells": [
  {
   "cell_type": "code",
   "execution_count": null,
   "metadata": {},
   "outputs": [],
   "source": [
    "# This is Ben's notebook \n",
    "(change this cell to markdown and put your name in)"
   ]
  },
  {
   "cell_type": "markdown",
   "metadata": {},
   "source": [
    "### Make a new cell and use markdown to reproduce the following bullet-item text:"
   ]
  },
  {
   "cell_type": "markdown",
   "metadata": {},
   "source": [
    "* Go to the [Classics collection of The Collection of Really Great, Interesting, Situated Datasets](https://think.cs.vt.edu/corgis/python/classics/classics.html)\n",
    "* Download `classics.py` and `classics.db`\n",
    "* Upload them to the **same** directory as the current notebook file\n",
    "* Make a new code cell and use `!ls` to double-check that it's in this directory\n",
    "* Replace `!ls` in that cell with:\n",
    "```\n",
    "import classics\n",
    "list_of_books = classics.get_books(test=True);\n",
    "```\n",
    "* Execute that code cell"
   ]
  },
  {
   "cell_type": "markdown",
   "metadata": {},
   "source": [
    "### And now follow the list of instructions that you just typed"
   ]
  },
  {
   "cell_type": "code",
   "execution_count": null,
   "metadata": {},
   "outputs": [],
   "source": [
    "# After importing classics (from the above instruction list)\n",
    "# execute this cell\n",
    "list_of_books[0]['bibliography']['title']"
   ]
  },
  {
   "cell_type": "code",
   "execution_count": null,
   "metadata": {},
   "outputs": [],
   "source": [
    "# Put a command here that gives you help documentation about list_of_books\n",
    "# What is the length of the book list?\n",
    "\n"
   ]
  },
  {
   "cell_type": "code",
   "execution_count": null,
   "metadata": {},
   "outputs": [],
   "source": [
    "# Execute this cell\n",
    "\n",
    "%matplotlib inline\n",
    "import matplotlib.pyplot as plt\n",
    "\n",
    "downloads = []\n",
    "for i in range(len(list_of_books)):\n",
    "    # data to plot\n",
    "    data_to_plot = list_of_books[i]['metadata']['downloads']\n",
    "    downloads.append(data_to_plot)\n",
    "plt.hist(downloads, 100, density=True, facecolor='g', alpha=0.75)\n",
    "plt.xlabel('Downloads')\n",
    "plt.ylabel('Fraction of counts at that value')\n",
    "plt.title('Number of Downloads')\n",
    "plt.grid(True)\n",
    "plt.show()"
   ]
  },
  {
   "cell_type": "markdown",
   "metadata": {},
   "source": [
    "### That plot shows a definite trend, but it's difficult to see some of the higher values\n",
    "* Make a duplicate copy of that cell\n",
    "* include `import math`\n",
    "* use the `math.log` function on the data\n",
    "* Re-execute the cell\n",
    "* Change the facecolor and alpha and keep re-plotting to see what they do"
   ]
  },
  {
   "cell_type": "markdown",
   "metadata": {},
   "source": [
    "### Using only keystrokes, go back up to the top of the notebook, copy the top cell, and paste it below this cell."
   ]
  },
  {
   "cell_type": "markdown",
   "metadata": {},
   "source": [
    "### Change the title of this notebook"
   ]
  },
  {
   "cell_type": "markdown",
   "metadata": {},
   "source": [
    "## Bonus:\n",
    "* Make a function that prints the title and number of downloads for a given index in list_of_books\n",
    "* Make an interactive widget that combines this function with an integer slider \n",
    "  * that is, the value of the integer slider will determine which book's info is printed"
   ]
  }
 ],
 "metadata": {
  "kernelspec": {
   "display_name": "Python 3",
   "language": "python",
   "name": "python3"
  },
  "language_info": {
   "codemirror_mode": {
    "name": "ipython",
    "version": 3
   },
   "file_extension": ".py",
   "mimetype": "text/x-python",
   "name": "python",
   "nbconvert_exporter": "python",
   "pygments_lexer": "ipython3",
   "version": "3.6.6"
  }
 },
 "nbformat": 4,
 "nbformat_minor": 2
}
