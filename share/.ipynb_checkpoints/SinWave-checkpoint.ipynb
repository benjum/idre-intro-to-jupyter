{
 "cells": [
  {
   "cell_type": "markdown",
   "metadata": {},
   "source": [
    "# A sinusoidal wave"
   ]
  },
  {
   "cell_type": "code",
   "execution_count": null,
   "metadata": {},
   "outputs": [],
   "source": [
    "%matplotlib inline\n",
    "import numpy as np\n",
    "import matplotlib.pyplot as plt\n",
    "from ipywidgets import interact"
   ]
  },
  {
   "cell_type": "markdown",
   "metadata": {},
   "source": [
    "The basic functional form of a sin wave is:\n",
    "\n",
    "$$y(x,t) = A \\sin(k x - \\omega t)$$\n",
    "\n",
    "where\n",
    "* A = amplitude\n",
    "* x = position\n",
    "* k = wavenumber\n",
    "* t = time\n",
    "* $\\omega$ = frequency"
   ]
  },
  {
   "cell_type": "markdown",
   "metadata": {},
   "source": [
    "You can read more about sin waves here:\n",
    "[Wiki](https://en.wikipedia.org/wiki/Sine_wave)"
   ]
  },
  {
   "cell_type": "code",
   "execution_count": null,
   "metadata": {},
   "outputs": [],
   "source": [
    "from IPython.display import HTML\n",
    "HTML('<img src=\"../gifs/sin.gif\" width=\"300\">')"
   ]
  },
  {
   "cell_type": "code",
   "execution_count": null,
   "metadata": {},
   "outputs": [],
   "source": [
    "def plotsin(A=1,k=1):\n",
    "    x = np.linspace(0, 2*np.pi, 1000)\n",
    "    y = A*np.sin(k*x)\n",
    "    plt.plot(x,y)\n",
    "    plt.ylim(-20,20)\n",
    "    \n",
    "interact(plotsin, A=(0,20), k=(0,20));"
   ]
  }
 ],
 "metadata": {
  "kernelspec": {
   "display_name": "Python 3",
   "language": "python",
   "name": "python3"
  },
  "language_info": {
   "codemirror_mode": {
    "name": "ipython",
    "version": 3
   },
   "file_extension": ".py",
   "mimetype": "text/x-python",
   "name": "python",
   "nbconvert_exporter": "python",
   "pygments_lexer": "ipython3",
   "version": "3.6.7"
  }
 },
 "nbformat": 4,
 "nbformat_minor": 2
}
