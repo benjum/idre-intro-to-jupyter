{
 "cells": [
  {
   "cell_type": "code",
   "execution_count": 1,
   "metadata": {},
   "outputs": [
    {
     "ename": "ArgumentError",
     "evalue": "ArgumentError: Package Compose not found in current path:\n- Run `Pkg.add(\"Compose\")` to install the Compose package.\n",
     "output_type": "error",
     "traceback": [
      "ArgumentError: Package Compose not found in current path:\n- Run `Pkg.add(\"Compose\")` to install the Compose package.\n",
      "",
      "Stacktrace:",
      " [1] require(::Module, ::Symbol) at ./loading.jl:817",
      " [2] top-level scope at In[1]:1"
     ]
    }
   ],
   "source": [
    "# This notebook is a semi top-down explanation. This cell needs to be\n",
    "# executed first so that the operators and helper functions are defined\n",
    "# All of this is explained in the later half of the notebook\n",
    "\n",
    "using Compose, Interact\n",
    "Compose.set_default_graphic_size(2inch, 2inch)\n",
    "\n",
    "points_f = [\n",
    "    (.1, .1),\n",
    "    (.9, .1),\n",
    "    (.9, .2),\n",
    "    (.2, .2),\n",
    "    (.2, .4),\n",
    "    (.6, .4),\n",
    "    (.6, .5),\n",
    "    (.2, .5),\n",
    "    (.2, .9),\n",
    "    (.1, .9),\n",
    "    (.1, .1)\n",
    "]\n",
    "\n",
    "f = compose(context(), stroke(\"black\"), line(points_f))\n",
    "\n",
    "rot(pic) = compose(context(rotation=Rotation(-deg2rad(90))), pic)\n",
    "flip(pic) = compose(context(mirror=Mirror(deg2rad(90), 0.5w, 0.5h)), pic)\n",
    "above(m, n, p, q) =\n",
    "    compose(context(),\n",
    "            (context(0, 0, 1, m/(m+n)), p),\n",
    "            (context(0, m/(m+n), 1, n/(m+n)), q))\n",
    "\n",
    "above(p, q) = above(1, 1, p, q)\n",
    "\n",
    "beside(m, n, p, q) =\n",
    "    compose(context(),\n",
    "            (context(0, 0, m/(m+n), 1), p),\n",
    "            (context(m/(m+n), 0, n/(m+n), 1), q))\n",
    "\n",
    "beside(p, q) = beside(1, 1, p, q)\n",
    "\n",
    "over(p, q) = compose(context(),\n",
    "                (context(), p), (context(), q))\n",
    "\n",
    "rot45(pic) =\n",
    "    compose(context(0, 0, 1/sqrt(2), 1/sqrt(2),\n",
    "        rotation=Rotation(-deg2rad(45), 0w, 0h)), pic)\n",
    "\n",
    "# Utility function to zoom out and look at the context\n",
    "zoomout(pic) = compose(context(),\n",
    "                (context(0.2, 0.2, 0.6, 0.6), pic),\n",
    "                (context(0.2, 0.2, 0.6, 0.6), fill(nothing), stroke(\"black\"), strokedash([0.5mm, 0.5mm]),\n",
    "                    polygon([(0, 0), (1, 0), (1, 1), (0, 1)])))\n",
    "\n",
    "function read_path(p_str)\n",
    "    tokens = [try parsefloat(x) catch symbol(x) end for x in split(p_str, r\"[\\s,]+\")]\n",
    "    path(tokens)\n",
    "end\n",
    "\n",
    "fish = compose(context(units=UnitBox(260, 260)), stroke(\"black\"),\n",
    "            read_path(strip(readall(\"fish.path\"))))\n",
    "\n",
    "rotatable(pic) = @manipulate for θ=0:0.001:2π\n",
    "    compose(context(rotation=Rotation(θ)), pic)\n",
    "end\n",
    "\n",
    "blank = compose(context())\n",
    "\n",
    "fliprot45(pic) = rot45(compose(context(mirror=Mirror(deg2rad(-45))),pic))\n",
    "\n",
    "# Hide this cell.\n",
    "display(MIME(\"text/html\"), \"\"\"<script>\n",
    "var cell = \\$(\".container .cell\").eq(0), ia = cell.find(\".input_area\")\n",
    "if (cell.find(\".toggle-button\").length == 0) {\n",
    "ia.after(\n",
    "    \\$('<button class=\"toggle-button\">Toggle hidden code</button>').click(\n",
    "        function (){ ia.toggle() }\n",
    "        )\n",
    "    )\n",
    "ia.hide()\n",
    "}\n",
    "</script>\"\"\")"
   ]
  },
  {
   "cell_type": "markdown",
   "metadata": {
    "slideshow": {
     "slide_type": "slide"
    }
   },
   "source": [
    "# Functional Geometry\n",
    "*Functional Geometry* is a paper by Peter Henderson ([original (1982)](users.ecs.soton.ac.uk/peter/funcgeo.pdf), [revisited (2002)](https://cs.au.dk/~hosc/local/HOSC-15-4-pp349-365.pdf)) which deconstructs the MC Escher woodcut *Square Limit*\n",
    "\n",
    "![Square Limit](http://i.imgur.com/LjRzmNM.png)"
   ]
  },
  {
   "cell_type": "markdown",
   "metadata": {
    "slideshow": {
     "slide_type": "fragment"
    }
   },
   "source": [
    "> A picture is an example of a complex object that can be described in terms of its parts.\n",
    "Yet a picture needs to be rendered on a printer or a screen by a device that expects to\n",
    "be given a sequence of commands. Programming that sequence of commands directly is\n",
    "much harder than having an application generate the commands automatically from the\n",
    "simpler, denotational description."
   ]
  },
  {
   "cell_type": "markdown",
   "metadata": {
    "slideshow": {
     "slide_type": "slide"
    }
   },
   "source": [
    "A `picture` is a *denotation* of something to draw.\n",
    "\n",
    "e.g. The value of f here denotes the picture of the letter F"
   ]
  },
  {
   "cell_type": "code",
   "execution_count": 2,
   "metadata": {
    "slideshow": {
     "slide_type": "fragment"
    }
   },
   "outputs": [
    {
     "ename": "UndefVarError",
     "evalue": "UndefVarError: f not defined",
     "output_type": "error",
     "traceback": [
      "UndefVarError: f not defined",
      "",
      "Stacktrace:",
      " [1] top-level scope at In[2]:1"
     ]
    }
   ],
   "source": [
    "f"
   ]
  },
  {
   "cell_type": "markdown",
   "metadata": {},
   "source": [
    "## Basic Operations on Pictures\n",
    "\n",
    "We begin specifying the algebra of pictures we will use to describe *Square Limit* with a few operations that operate on pictures to give other pictures, namely:\n",
    "\n",
    "* `rot    : picture → picture`\n",
    "* `flip   : picture → picture`\n",
    "* `rot45  : picture → picture`\n",
    "* `above  : picture × picture → picture`\n",
    "* `above  : int × int × picture × picture → picture`\n",
    "* `beside : picture × picture → picture`\n",
    "* `beside : int × int × picture × picture → picture`\n",
    "* `over   : picture → picture`"
   ]
  },
  {
   "cell_type": "markdown",
   "metadata": {},
   "source": [
    "## Rotate and flip\n",
    "\n",
    "#### `rot : picture → picture`\n",
    "\n",
    "Rotate a picture anti-clockwise by 90°"
   ]
  },
  {
   "cell_type": "code",
   "execution_count": 3,
   "metadata": {
    "slideshow": {
     "slide_type": "fragment"
    }
   },
   "outputs": [
    {
     "ename": "UndefVarError",
     "evalue": "UndefVarError: rot not defined",
     "output_type": "error",
     "traceback": [
      "UndefVarError: rot not defined",
      "",
      "Stacktrace:",
      " [1] top-level scope at In[3]:1"
     ]
    }
   ],
   "source": [
    "rot(f)"
   ]
  },
  {
   "cell_type": "markdown",
   "metadata": {
    "slideshow": {
     "slide_type": "fragment"
    }
   },
   "source": [
    "### `flip : picture → picture`\n",
    "\n",
    "Flip a picture along its virtical center axis"
   ]
  },
  {
   "cell_type": "code",
   "execution_count": 4,
   "metadata": {
    "slideshow": {
     "slide_type": "fragment"
    }
   },
   "outputs": [
    {
     "ename": "UndefVarError",
     "evalue": "UndefVarError: flip not defined",
     "output_type": "error",
     "traceback": [
      "UndefVarError: flip not defined",
      "",
      "Stacktrace:",
      " [1] top-level scope at In[4]:1"
     ]
    }
   ],
   "source": [
    "flip(f)"
   ]
  },
  {
   "cell_type": "code",
   "execution_count": 5,
   "metadata": {
    "slideshow": {
     "slide_type": "fragment"
    }
   },
   "outputs": [
    {
     "ename": "UndefVarError",
     "evalue": "UndefVarError: flip not defined",
     "output_type": "error",
     "traceback": [
      "UndefVarError: flip not defined",
      "",
      "Stacktrace:",
      " [1] top-level scope at In[5]:1"
     ]
    }
   ],
   "source": [
    "rot(flip(f))"
   ]
  },
  {
   "cell_type": "markdown",
   "metadata": {},
   "source": [
    "### fliprot45 : picture → picture\n",
    "\n",
    "rotate the picture anti-clockwise by 45°, then flip it across the new virtical axis. In the paper this is implemented as $flip(rot45(fish))$. This function is rather specific to the problem at hand."
   ]
  },
  {
   "cell_type": "code",
   "execution_count": 6,
   "metadata": {
    "slideshow": {
     "slide_type": "fragment"
    }
   },
   "outputs": [
    {
     "ename": "UndefVarError",
     "evalue": "UndefVarError: fliprot45 not defined",
     "output_type": "error",
     "traceback": [
      "UndefVarError: fliprot45 not defined",
      "",
      "Stacktrace:",
      " [1] top-level scope at In[6]:1"
     ]
    }
   ],
   "source": [
    "fliprot45(fish)              |> zoomout # zoomout shows the bounding box"
   ]
  },
  {
   "cell_type": "markdown",
   "metadata": {
    "slideshow": {
     "slide_type": "fragment"
    }
   },
   "source": [
    "### Juxtaposition\n",
    "#### `above  : picture × picture → picture`\n",
    "\n",
    "place a picture above another."
   ]
  },
  {
   "cell_type": "code",
   "execution_count": 7,
   "metadata": {
    "slideshow": {
     "slide_type": "slide"
    }
   },
   "outputs": [
    {
     "ename": "UndefVarError",
     "evalue": "UndefVarError: above not defined",
     "output_type": "error",
     "traceback": [
      "UndefVarError: above not defined",
      "",
      "Stacktrace:",
      " [1] top-level scope at In[7]:1"
     ]
    }
   ],
   "source": [
    "above(f, f)"
   ]
  },
  {
   "cell_type": "markdown",
   "metadata": {},
   "source": [
    "#### `above  : int × int × picture × picture → picture`\n",
    "\n",
    "given `m`, `n`, `picture1` and `picture2`, return a picture where `picture1` is placed above `picture2` such that their heights occupy the total height in m:n ratio"
   ]
  },
  {
   "cell_type": "code",
   "execution_count": 8,
   "metadata": {},
   "outputs": [
    {
     "ename": "UndefVarError",
     "evalue": "UndefVarError: above not defined",
     "output_type": "error",
     "traceback": [
      "UndefVarError: above not defined",
      "",
      "Stacktrace:",
      " [1] top-level scope at In[8]:1"
     ]
    }
   ],
   "source": [
    "above(1, 2, f, f)"
   ]
  },
  {
   "cell_type": "markdown",
   "metadata": {},
   "source": [
    "#### `beside : picture × picture → picture`\n",
    "\n",
    "Similar to `above` but in the left-to-right direction."
   ]
  },
  {
   "cell_type": "code",
   "execution_count": 9,
   "metadata": {
    "slideshow": {
     "slide_type": "fragment"
    }
   },
   "outputs": [
    {
     "ename": "UndefVarError",
     "evalue": "UndefVarError: beside not defined",
     "output_type": "error",
     "traceback": [
      "UndefVarError: beside not defined",
      "",
      "Stacktrace:",
      " [1] top-level scope at In[9]:1"
     ]
    }
   ],
   "source": [
    "beside(f, f)"
   ]
  },
  {
   "cell_type": "markdown",
   "metadata": {},
   "source": [
    "### `beside : int × int × picture × picture → picture`"
   ]
  },
  {
   "cell_type": "code",
   "execution_count": 10,
   "metadata": {
    "slideshow": {
     "slide_type": "fragment"
    }
   },
   "outputs": [
    {
     "ename": "UndefVarError",
     "evalue": "UndefVarError: beside not defined",
     "output_type": "error",
     "traceback": [
      "UndefVarError: beside not defined",
      "",
      "Stacktrace:",
      " [1] top-level scope at In[10]:1"
     ]
    }
   ],
   "source": [
    "beside(1, 2, f, f)"
   ]
  },
  {
   "cell_type": "code",
   "execution_count": 11,
   "metadata": {
    "slideshow": {
     "slide_type": "fragment"
    }
   },
   "outputs": [
    {
     "ename": "UndefVarError",
     "evalue": "UndefVarError: beside not defined",
     "output_type": "error",
     "traceback": [
      "UndefVarError: beside not defined",
      "",
      "Stacktrace:",
      " [1] top-level scope at In[11]:1"
     ]
    }
   ],
   "source": [
    "above(beside(f, f), f)"
   ]
  },
  {
   "cell_type": "markdown",
   "metadata": {
    "slideshow": {
     "slide_type": "fragment"
    }
   },
   "source": [
    "### Superposition\n",
    "\n",
    "#### `over : picture → picture`\n",
    "\n",
    "place a picture upon another"
   ]
  },
  {
   "cell_type": "code",
   "execution_count": 12,
   "metadata": {
    "slideshow": {
     "slide_type": "fragment"
    }
   },
   "outputs": [
    {
     "ename": "UndefVarError",
     "evalue": "UndefVarError: flip not defined",
     "output_type": "error",
     "traceback": [
      "UndefVarError: flip not defined",
      "",
      "Stacktrace:",
      " [1] top-level scope at In[12]:1"
     ]
    }
   ],
   "source": [
    "over(f, flip(f))"
   ]
  },
  {
   "cell_type": "markdown",
   "metadata": {
    "slideshow": {
     "slide_type": "slide"
    }
   },
   "source": [
    "# Square Limit\n",
    "\n",
    "## The Fish\n",
    "\n",
    "We will now study some of the properties of the fish."
   ]
  },
  {
   "cell_type": "code",
   "execution_count": 13,
   "metadata": {
    "slideshow": {
     "slide_type": "fragment"
    }
   },
   "outputs": [
    {
     "ename": "UndefVarError",
     "evalue": "UndefVarError: fish not defined",
     "output_type": "error",
     "traceback": [
      "UndefVarError: fish not defined",
      "",
      "Stacktrace:",
      " [1] top-level scope at In[13]:1"
     ]
    }
   ],
   "source": [
    "fish |> zoomout"
   ]
  },
  {
   "cell_type": "code",
   "execution_count": 14,
   "metadata": {
    "slideshow": {
     "slide_type": "fragment"
    }
   },
   "outputs": [
    {
     "ename": "UndefVarError",
     "evalue": "UndefVarError: fish not defined",
     "output_type": "error",
     "traceback": [
      "UndefVarError: fish not defined",
      "",
      "Stacktrace:",
      " [1] top-level scope at In[14]:1"
     ]
    }
   ],
   "source": [
    "rotatable(fish |> zoomout)"
   ]
  },
  {
   "cell_type": "code",
   "execution_count": 15,
   "metadata": {
    "slideshow": {
     "slide_type": "slide"
    }
   },
   "outputs": [
    {
     "ename": "UndefVarError",
     "evalue": "UndefVarError: rot not defined",
     "output_type": "error",
     "traceback": [
      "UndefVarError: rot not defined",
      "",
      "Stacktrace:",
      " [1] top-level scope at In[15]:1"
     ]
    }
   ],
   "source": [
    "over(fish, rot(rot(fish))) |> zoomout"
   ]
  },
  {
   "cell_type": "markdown",
   "metadata": {},
   "source": [
    "## Tiles"
   ]
  },
  {
   "cell_type": "markdown",
   "metadata": {},
   "source": [
    "There is a certain kind of arrangement that is used to tile parts of the image. We call it `t`"
   ]
  },
  {
   "cell_type": "code",
   "execution_count": 16,
   "metadata": {
    "slideshow": {
     "slide_type": "slide"
    }
   },
   "outputs": [
    {
     "ename": "UndefVarError",
     "evalue": "UndefVarError: fliprot45 not defined",
     "output_type": "error",
     "traceback": [
      "UndefVarError: fliprot45 not defined",
      "",
      "Stacktrace:",
      " [1] top-level scope at In[16]:1"
     ]
    }
   ],
   "source": [
    "fish2 = fliprot45(fish)\n",
    "fish3 = rot(rot(rot(fish2)))\n",
    "\n",
    "t = over(fish, over(fish2, fish3))\n",
    "\n",
    "t |> zoomout"
   ]
  },
  {
   "cell_type": "markdown",
   "metadata": {},
   "source": [
    "There is another kind of arrangement of fish which lies at the very center and regions on the diagonals. We will call it `u`."
   ]
  },
  {
   "cell_type": "code",
   "execution_count": 17,
   "metadata": {
    "slideshow": {
     "slide_type": "fragment"
    }
   },
   "outputs": [
    {
     "ename": "UndefVarError",
     "evalue": "UndefVarError: rot not defined",
     "output_type": "error",
     "traceback": [
      "UndefVarError: rot not defined",
      "",
      "Stacktrace:",
      " [1] top-level scope at In[17]:1"
     ]
    }
   ],
   "source": [
    "u = over(over(fish2, rot(fish2)),\n",
    "         over(rot(rot(fish2)), rot(rot(rot(fish2)))))\n",
    "\n",
    "u |> zoomout"
   ]
  },
  {
   "cell_type": "markdown",
   "metadata": {
    "slideshow": {
     "slide_type": "slide"
    }
   },
   "source": [
    "## A few useful higher level functions"
   ]
  },
  {
   "cell_type": "markdown",
   "metadata": {},
   "source": [
    "`quartet` tiles 4 images in a 2x2 grid"
   ]
  },
  {
   "cell_type": "code",
   "execution_count": 18,
   "metadata": {
    "slideshow": {
     "slide_type": "fragment"
    }
   },
   "outputs": [
    {
     "ename": "UndefVarError",
     "evalue": "UndefVarError: flip not defined",
     "output_type": "error",
     "traceback": [
      "UndefVarError: flip not defined",
      "",
      "Stacktrace:",
      " [1] top-level scope at In[18]:3"
     ]
    }
   ],
   "source": [
    "quartet(p, q, r, s) =\n",
    "    above(beside(p, q), beside(r, s))\n",
    "\n",
    "quartet(f,flip(f),rot(f),f)"
   ]
  },
  {
   "cell_type": "code",
   "execution_count": 19,
   "metadata": {},
   "outputs": [
    {
     "ename": "UndefVarError",
     "evalue": "UndefVarError: Compose not defined",
     "output_type": "error",
     "traceback": [
      "UndefVarError: Compose not defined",
      "",
      "Stacktrace:",
      " [1] top-level scope at In[19]:1"
     ]
    }
   ],
   "source": [
    "# 2inch x 2inch canvas is no more sufficient, so let's blow it up a bit\n",
    "Compose.set_default_graphic_size(5inch, 5inch)"
   ]
  },
  {
   "cell_type": "code",
   "execution_count": 20,
   "metadata": {
    "slideshow": {
     "slide_type": "fragment"
    }
   },
   "outputs": [
    {
     "ename": "UndefVarError",
     "evalue": "UndefVarError: u not defined",
     "output_type": "error",
     "traceback": [
      "UndefVarError: u not defined",
      "",
      "Stacktrace:",
      " [1] top-level scope at In[20]:1"
     ]
    }
   ],
   "source": [
    "quartet(u, u, u, u)     |> zoomout"
   ]
  },
  {
   "cell_type": "markdown",
   "metadata": {},
   "source": [
    "Notice how the fish interlock without leaving out any space in between them. Escher FTW."
   ]
  },
  {
   "cell_type": "markdown",
   "metadata": {},
   "source": [
    "`cycle` is a quartet of the same picture with each successive tile rotated by 90° anti-clockwise"
   ]
  },
  {
   "cell_type": "code",
   "execution_count": 21,
   "metadata": {
    "slideshow": {
     "slide_type": "fragment"
    }
   },
   "outputs": [
    {
     "ename": "UndefVarError",
     "evalue": "UndefVarError: f not defined",
     "output_type": "error",
     "traceback": [
      "UndefVarError: f not defined",
      "",
      "Stacktrace:",
      " [1] top-level scope at In[21]:3"
     ]
    }
   ],
   "source": [
    "cycle(p) =\n",
    "    quartet(p, rot(p), rot(rot(p)), rot(rot(rot(p))))\n",
    "\n",
    "cycle(f)"
   ]
  },
  {
   "cell_type": "markdown",
   "metadata": {},
   "source": [
    "A nonet is a grid of 9 pictures."
   ]
  },
  {
   "cell_type": "code",
   "execution_count": 22,
   "metadata": {
    "slideshow": {
     "slide_type": "slide"
    }
   },
   "outputs": [
    {
     "data": {
      "text/plain": [
       "nonet (generic function with 1 method)"
      ]
     },
     "execution_count": 22,
     "metadata": {},
     "output_type": "execute_result"
    }
   ],
   "source": [
    "nonet(p, q, r,\n",
    "      s, t, u,\n",
    "      v, w, x) =\n",
    "        above(1,2,beside(1,2,p,beside(1,1,q,r)),\n",
    "        above(1,1,beside(1,2,s,beside(1,1,t,u)),\n",
    "        beside(1,2,v,beside(1,1,w,x))))"
   ]
  },
  {
   "cell_type": "code",
   "execution_count": 23,
   "metadata": {
    "slideshow": {
     "slide_type": "fragment"
    }
   },
   "outputs": [
    {
     "ename": "UndefVarError",
     "evalue": "UndefVarError: f not defined",
     "output_type": "error",
     "traceback": [
      "UndefVarError: f not defined",
      "",
      "Stacktrace:",
      " [1] top-level scope at In[23]:1"
     ]
    }
   ],
   "source": [
    "nonet(f, f, f, f, f, f, f, f, f)"
   ]
  },
  {
   "cell_type": "markdown",
   "metadata": {},
   "source": [
    "## More parts"
   ]
  },
  {
   "cell_type": "markdown",
   "metadata": {},
   "source": [
    "Note: `blank` denotes a blank `picture`\n",
    "\n",
    "There is a certain pattern which makes up the mid region of each of the four edges of the image. We will call this arrangement `side`\n",
    "\n",
    "the 1 in `side1` represents 1 level of recursion. This is the simplest side."
   ]
  },
  {
   "cell_type": "code",
   "execution_count": 24,
   "metadata": {
    "slideshow": {
     "slide_type": "slide"
    }
   },
   "outputs": [
    {
     "ename": "UndefVarError",
     "evalue": "UndefVarError: rot not defined",
     "output_type": "error",
     "traceback": [
      "UndefVarError: rot not defined",
      "",
      "Stacktrace:",
      " [1] top-level scope at In[24]:1"
     ]
    }
   ],
   "source": [
    "side1 = quartet(blank, blank, rot(t), t)\n",
    "\n",
    "side1 |> zoomout"
   ]
  },
  {
   "cell_type": "markdown",
   "metadata": {},
   "source": [
    "A side that is 2 levels deep."
   ]
  },
  {
   "cell_type": "code",
   "execution_count": 25,
   "metadata": {
    "slideshow": {
     "slide_type": "slide"
    }
   },
   "outputs": [
    {
     "ename": "UndefVarError",
     "evalue": "UndefVarError: rot not defined",
     "output_type": "error",
     "traceback": [
      "UndefVarError: rot not defined",
      "",
      "Stacktrace:",
      " [1] top-level scope at In[25]:1"
     ]
    }
   ],
   "source": [
    "side2 = quartet(side1,side1,rot(t),t)\n",
    "\n",
    "side2 |> zoomout"
   ]
  },
  {
   "cell_type": "markdown",
   "metadata": {},
   "source": [
    "A side that is n level deep."
   ]
  },
  {
   "cell_type": "code",
   "execution_count": 26,
   "metadata": {
    "slideshow": {
     "slide_type": "slide"
    }
   },
   "outputs": [
    {
     "ename": "UndefVarError",
     "evalue": "UndefVarError: side1 not defined",
     "output_type": "error",
     "traceback": [
      "UndefVarError: side1 not defined",
      "",
      "Stacktrace:",
      " [1] side(::Int64) at ./In[26]:2",
      " [2] side(::Int64) at ./In[26]:3 (repeats 2 times)",
      " [3] top-level scope at In[26]:5"
     ]
    }
   ],
   "source": [
    "side(n) =\n",
    "    if n == 1 side1 # basis\n",
    "    else quartet(side(n-1),side(n-1),rot(t),t) # induction\n",
    "    end\n",
    "\n",
    "side(3) |> zoomout"
   ]
  },
  {
   "cell_type": "code",
   "execution_count": 27,
   "metadata": {},
   "outputs": [
    {
     "ename": "LoadError",
     "evalue": "UndefVarError: @manipulate not defined",
     "output_type": "error",
     "traceback": [
      "UndefVarError: @manipulate not defined",
      ""
     ]
    }
   ],
   "source": [
    "\n",
    "# @manipulate lets us watch what happens as the levels increase\n",
    "@manipulate for level=slider(1:4, value=1)\n",
    "    side(level) |> zoomout\n",
    "end\n"
   ]
  },
  {
   "cell_type": "markdown",
   "metadata": {},
   "source": [
    "Similarly, there is a certain kind of arrangement which makes up the corners of the artwork.\n",
    "\n",
    "A `corner` level 1 deep is simply"
   ]
  },
  {
   "cell_type": "code",
   "execution_count": 28,
   "metadata": {
    "slideshow": {
     "slide_type": "slide"
    }
   },
   "outputs": [
    {
     "ename": "UndefVarError",
     "evalue": "UndefVarError: blank not defined",
     "output_type": "error",
     "traceback": [
      "UndefVarError: blank not defined",
      "",
      "Stacktrace:",
      " [1] top-level scope at In[28]:1"
     ]
    }
   ],
   "source": [
    "corner1 = quartet(blank,blank,blank,u)\n",
    "\n",
    "corner1 |> zoomout"
   ]
  },
  {
   "cell_type": "markdown",
   "metadata": {},
   "source": [
    "A corner 2 levels deep, it is built using corner1, side1 and u."
   ]
  },
  {
   "cell_type": "code",
   "execution_count": 29,
   "metadata": {
    "slideshow": {
     "slide_type": "slide"
    }
   },
   "outputs": [
    {
     "ename": "UndefVarError",
     "evalue": "UndefVarError: rot not defined",
     "output_type": "error",
     "traceback": [
      "UndefVarError: rot not defined",
      "",
      "Stacktrace:",
      " [1] top-level scope at In[29]:1"
     ]
    }
   ],
   "source": [
    "corner2 = quartet(corner1,side1,rot(side1),u)\n",
    "\n",
    "corner2 |> zoomout"
   ]
  },
  {
   "cell_type": "markdown",
   "metadata": {},
   "source": [
    "An n level deep corner."
   ]
  },
  {
   "cell_type": "code",
   "execution_count": 30,
   "metadata": {
    "slideshow": {
     "slide_type": "slide"
    }
   },
   "outputs": [
    {
     "ename": "UndefVarError",
     "evalue": "UndefVarError: corner1 not defined",
     "output_type": "error",
     "traceback": [
      "UndefVarError: corner1 not defined",
      "",
      "Stacktrace:",
      " [1] corner(::Int64) at ./In[30]:1 (repeats 3 times)",
      " [2] top-level scope at In[30]:4"
     ]
    }
   ],
   "source": [
    "corner(n) =\n",
    "    n == 1 ? corner1 :\n",
    "             quartet(corner(n-1), side(n-1), rot(side(n-1)), u)\n",
    "\n",
    "corner(3) |> zoomout"
   ]
  },
  {
   "cell_type": "code",
   "execution_count": 31,
   "metadata": {},
   "outputs": [
    {
     "ename": "LoadError",
     "evalue": "UndefVarError: @manipulate not defined",
     "output_type": "error",
     "traceback": [
      "UndefVarError: @manipulate not defined",
      ""
     ]
    }
   ],
   "source": [
    "# Touring the corners with a slider:\n",
    "\n",
    "@manipulate for level=slider(1:4, value=1)\n",
    "    corner(level) |> zoomout\n",
    "end"
   ]
  },
  {
   "cell_type": "markdown",
   "metadata": {
    "slideshow": {
     "slide_type": "slide"
    }
   },
   "source": [
    "## Square Limit"
   ]
  },
  {
   "cell_type": "markdown",
   "metadata": {},
   "source": [
    "We are almost there.\n",
    "\n",
    "Square limit is a nonet of various rotations of `corner` at the corners, `side` at the sides and `u` in the center.\n",
    "\n",
    "The following equation puts this precisely:"
   ]
  },
  {
   "cell_type": "code",
   "execution_count": 32,
   "metadata": {
    "slideshow": {
     "slide_type": "fragment"
    }
   },
   "outputs": [
    {
     "data": {
      "text/plain": [
       "squarelimit (generic function with 1 method)"
      ]
     },
     "execution_count": 32,
     "metadata": {},
     "output_type": "execute_result"
    }
   ],
   "source": [
    "squarelimit(n) =\n",
    "    nonet(corner(n), side(n), rot(rot(rot(corner(n)))),\n",
    "          rot(side(n)), u, rot(rot(rot(side(n)))),\n",
    "          rot(corner(n)), rot(rot(side(n))), rot(rot(corner(n))))"
   ]
  },
  {
   "cell_type": "code",
   "execution_count": 33,
   "metadata": {
    "slideshow": {
     "slide_type": "fragment"
    }
   },
   "outputs": [
    {
     "ename": "UndefVarError",
     "evalue": "UndefVarError: inch not defined",
     "output_type": "error",
     "traceback": [
      "UndefVarError: inch not defined",
      "",
      "Stacktrace:",
      " [1] top-level scope at In[33]:1"
     ]
    }
   ],
   "source": [
    "# We render a level-3 square limit on a 10inch x 10inch SVG for maximum awesome.\n",
    "draw(SVG(10inch, 10inch), squarelimit(3))"
   ]
  },
  {
   "cell_type": "markdown",
   "metadata": {},
   "source": [
    "# Implementing the primitives with Compose"
   ]
  },
  {
   "cell_type": "markdown",
   "metadata": {},
   "source": [
    "We will now implement the basic operators `rot`, `flip`, `fliprot45`, `above`, `below` and `over` with [Compose.jl](composejl.org). (this explanation is taken mostly from the Compose website)\n",
    "\n",
    "Compose graphics are created as a tree data structure. There are 3 types of objects that make up the nodes of the tree:\n",
    "\n",
    "1. `Context`: An internal node, defines the transformation matrix to be applied for its children\n",
    "2. `Form`: A leaf node that defines some geometry, like a line or a polygon\n",
    "3. `Property`: A leaf node that modifies how its parent's subtree is drawn, like fill color, font family, or line width."
   ]
  },
  {
   "cell_type": "markdown",
   "metadata": {},
   "source": [
    "The all-important function in Compose, is called, not surprisingly, `compose`. Calling `compose(a, b)` will return a new tree rooted at `a` and with `b` attached as a child.\n",
    "\n",
    "That's enough to start drawing some simple shapes."
   ]
  },
  {
   "cell_type": "code",
   "execution_count": 34,
   "metadata": {},
   "outputs": [
    {
     "ename": "UndefVarError",
     "evalue": "UndefVarError: Compose not defined",
     "output_type": "error",
     "traceback": [
      "UndefVarError: Compose not defined",
      "",
      "Stacktrace:",
      " [1] top-level scope at In[34]:1"
     ]
    }
   ],
   "source": [
    "Compose.set_default_graphic_size(2inch, 2inch) # switch back to smaller output\n",
    "\n",
    "compose(context(), rectangle(), fill(\"tomato\"))"
   ]
  },
  {
   "cell_type": "markdown",
   "metadata": {},
   "source": [
    "Furthermore, more complex trees can be formed by grouping subtrees with parenthesis."
   ]
  },
  {
   "cell_type": "code",
   "execution_count": 35,
   "metadata": {},
   "outputs": [
    {
     "ename": "UndefVarError",
     "evalue": "UndefVarError: context not defined",
     "output_type": "error",
     "traceback": [
      "UndefVarError: context not defined",
      "",
      "Stacktrace:",
      " [1] top-level scope at In[35]:1"
     ]
    }
   ],
   "source": [
    "tomato_bisque =\n",
    "    compose(context(),\n",
    "        (context(), circle(), fill(\"bisque\")),\n",
    "        (context(), rectangle(), fill(\"tomato\")))"
   ]
  },
  {
   "cell_type": "markdown",
   "metadata": {},
   "source": [
    "We can introspect this object with the `introspect` function. It returns a tree depiction of the picture"
   ]
  },
  {
   "cell_type": "code",
   "execution_count": 36,
   "metadata": {},
   "outputs": [
    {
     "ename": "UndefVarError",
     "evalue": "UndefVarError: introspect not defined",
     "output_type": "error",
     "traceback": [
      "UndefVarError: introspect not defined",
      "",
      "Stacktrace:",
      " [1] top-level scope at In[36]:1"
     ]
    }
   ],
   "source": [
    "introspect(tomato_bisque)"
   ]
  },
  {
   "cell_type": "markdown",
   "metadata": {},
   "source": [
    "The circles represent contexts, the triangles represent properties (fill color in our case) and the square represents a Form (one is a circle another is a rectangle)\n",
    "\n",
    "When a picture needs to be drawn, Compose walks the tree, setting up the correct transformation matrices and resolving the forms into absolute coordinate system depending on the size of the canvas being drawn on.\n",
    "\n",
    "These trees can be really big, but that's OK. Compose will draw them just fine. Let's introspect the tile `.`"
   ]
  },
  {
   "cell_type": "code",
   "execution_count": 37,
   "metadata": {},
   "outputs": [
    {
     "ename": "UndefVarError",
     "evalue": "UndefVarError: introspect not defined",
     "output_type": "error",
     "traceback": [
      "UndefVarError: introspect not defined",
      "",
      "Stacktrace:",
      " [1] top-level scope at In[37]:1"
     ]
    }
   ],
   "source": [
    "introspect(u)"
   ]
  },
  {
   "cell_type": "markdown",
   "metadata": {},
   "source": [
    "\n",
    "Let us now describe the picture of the letter F.\n",
    "\n",
    "Notice that we use relative coordinates, where the width of the image is 1 width unit, and the height is 1 height unit"
   ]
  },
  {
   "cell_type": "code",
   "execution_count": 38,
   "metadata": {},
   "outputs": [
    {
     "ename": "UndefVarError",
     "evalue": "UndefVarError: context not defined",
     "output_type": "error",
     "traceback": [
      "UndefVarError: context not defined",
      "",
      "Stacktrace:",
      " [1] top-level scope at In[38]:15"
     ]
    }
   ],
   "source": [
    "\n",
    "points_f = [\n",
    "    (.1, .1),\n",
    "    (.9, .1),\n",
    "    (.9, .2),\n",
    "    (.2, .2),\n",
    "    (.2, .4),\n",
    "    (.6, .4),\n",
    "    (.6, .5),\n",
    "    (.2, .5),\n",
    "    (.2, .9),\n",
    "    (.1, .9),\n",
    "    (.1, .1)\n",
    "]\n",
    "\n",
    "# line function takes a list of points and returns a Line form\n",
    "f = compose(context(), stroke(\"black\"), line(points_f))\n"
   ]
  },
  {
   "cell_type": "markdown",
   "metadata": {},
   "source": [
    "Rotating a picture involves wrapping in a context with a rotation."
   ]
  },
  {
   "cell_type": "code",
   "execution_count": 39,
   "metadata": {},
   "outputs": [
    {
     "ename": "UndefVarError",
     "evalue": "UndefVarError: f not defined",
     "output_type": "error",
     "traceback": [
      "UndefVarError: f not defined",
      "",
      "Stacktrace:",
      " [1] top-level scope at In[39]:5"
     ]
    }
   ],
   "source": [
    "\n",
    "# rotate anti-clockwise by 90deg\n",
    "rot(pic) =\n",
    "    compose(context(rotation=Rotation(-π/2)), pic)\n",
    "\n",
    "rot(f)"
   ]
  },
  {
   "cell_type": "markdown",
   "metadata": {},
   "source": [
    "Flipping an image about the vertical center axis involves mirroring it across the axis. The axis is defined with a point on the axis and the slope of the axis in radians."
   ]
  },
  {
   "cell_type": "code",
   "execution_count": 40,
   "metadata": {},
   "outputs": [
    {
     "ename": "UndefVarError",
     "evalue": "UndefVarError: f not defined",
     "output_type": "error",
     "traceback": [
      "UndefVarError: f not defined",
      "",
      "Stacktrace:",
      " [1] top-level scope at In[40]:4"
     ]
    }
   ],
   "source": [
    "\n",
    "flip(pic) =\n",
    "    compose(context(mirror=Mirror(deg2rad(90), 0.5, 0.5)), pic)\n",
    "\n",
    "flip(f)"
   ]
  },
  {
   "cell_type": "code",
   "execution_count": 41,
   "metadata": {},
   "outputs": [
    {
     "ename": "UndefVarError",
     "evalue": "UndefVarError: f not defined",
     "output_type": "error",
     "traceback": [
      "UndefVarError: f not defined",
      "",
      "Stacktrace:",
      " [1] top-level scope at In[41]:4"
     ]
    }
   ],
   "source": [
    "rot45(pic) =\n",
    "    compose(context(0, 0, 1/sqrt(2), 1/sqrt(2),\n",
    "        rotation=Rotation(-π/4, 0, 0)), pic)\n",
    "\n",
    "rot45(f)"
   ]
  },
  {
   "cell_type": "markdown",
   "metadata": {},
   "source": [
    "`fliprot45` involves wrapping the picture in a context which is mirrored about an axis at 45° (anti-clockwise), and then applying `rot45` to it to rotate and scale appropriately."
   ]
  },
  {
   "cell_type": "code",
   "execution_count": 42,
   "metadata": {
    "slideshow": {
     "slide_type": "skip"
    }
   },
   "outputs": [
    {
     "ename": "UndefVarError",
     "evalue": "UndefVarError: f not defined",
     "output_type": "error",
     "traceback": [
      "UndefVarError: f not defined",
      "",
      "Stacktrace:",
      " [1] top-level scope at In[42]:4"
     ]
    }
   ],
   "source": [
    "fliprot45(pic) =\n",
    "    rot45(compose(context(mirror=Mirror(deg2rad(-45))),\n",
    "            pic))\n",
    "\n",
    "fliprot45(f) |> zoomout"
   ]
  },
  {
   "cell_type": "markdown",
   "metadata": {},
   "source": [
    "to place a picture above another, we create two child contexts which have their heights in the ratio m:n,\n",
    "`context(x0, y0, w, h)` sets up a context beginning at the point (x0, y0), with width w, and height h."
   ]
  },
  {
   "cell_type": "code",
   "execution_count": 43,
   "metadata": {},
   "outputs": [
    {
     "data": {
      "text/plain": [
       "above (generic function with 1 method)"
      ]
     },
     "execution_count": 43,
     "metadata": {},
     "output_type": "execute_result"
    }
   ],
   "source": [
    "\n",
    "above(m, n, p, q) =\n",
    "    compose(context(),\n",
    "            (context(0, 0, 1, m/(m+n)), p),\n",
    "            (context(0, m/(m+n), 1, n/(m+n)), q))\n"
   ]
  },
  {
   "cell_type": "markdown",
   "metadata": {},
   "source": [
    "`above(p, q)` is a specific case of `above` where m:n = 1:1"
   ]
  },
  {
   "cell_type": "code",
   "execution_count": 44,
   "metadata": {},
   "outputs": [
    {
     "data": {
      "text/plain": [
       "above (generic function with 2 methods)"
      ]
     },
     "execution_count": 44,
     "metadata": {},
     "output_type": "execute_result"
    }
   ],
   "source": [
    "above(p, q) = above(1, 1, p, q)"
   ]
  },
  {
   "cell_type": "code",
   "execution_count": 45,
   "metadata": {},
   "outputs": [
    {
     "ename": "UndefVarError",
     "evalue": "UndefVarError: f not defined",
     "output_type": "error",
     "traceback": [
      "UndefVarError: f not defined",
      "",
      "Stacktrace:",
      " [1] top-level scope at In[45]:1"
     ]
    }
   ],
   "source": [
    "above(f, f)"
   ]
  },
  {
   "cell_type": "markdown",
   "metadata": {},
   "source": [
    "`beside` is similar but now we divide the width instead of the height in the m:n ratio."
   ]
  },
  {
   "cell_type": "code",
   "execution_count": 46,
   "metadata": {},
   "outputs": [
    {
     "ename": "UndefVarError",
     "evalue": "UndefVarError: f not defined",
     "output_type": "error",
     "traceback": [
      "UndefVarError: f not defined",
      "",
      "Stacktrace:",
      " [1] top-level scope at In[46]:8"
     ]
    }
   ],
   "source": [
    "\n",
    "beside(m, n, p, q) =\n",
    "    compose(context(),\n",
    "            (context(0, 0, m/(m+n), 1), p),\n",
    "            (context(m/(m+n), 0, n/(m+n), 1), q))\n",
    "\n",
    "beside(p, q) = beside(1, 1, p, q)\n",
    "\n",
    "beside(f, f)\n"
   ]
  },
  {
   "cell_type": "markdown",
   "metadata": {},
   "source": [
    "To overlay an image, we simply create two child contexts (contexts fill up the parent context by default)"
   ]
  },
  {
   "cell_type": "code",
   "execution_count": 47,
   "metadata": {},
   "outputs": [
    {
     "ename": "UndefVarError",
     "evalue": "UndefVarError: f not defined",
     "output_type": "error",
     "traceback": [
      "UndefVarError: f not defined",
      "",
      "Stacktrace:",
      " [1] top-level scope at In[47]:3"
     ]
    }
   ],
   "source": [
    "over(p, q) = compose(context(),\n",
    "                (context(), p), (context(), q))\n",
    "\n",
    "over(f, flip(f))"
   ]
  },
  {
   "cell_type": "markdown",
   "metadata": {},
   "source": [
    "### The Fish\n",
    "\n",
    "The fish is stored as an [SVG path](https://developer.mozilla.org/en/docs/Web/SVG/Tutorial/Paths) in the `fish.path` file. We read it, tokenize it and create a path `Form` from it."
   ]
  },
  {
   "cell_type": "code",
   "execution_count": 48,
   "metadata": {
    "slideshow": {
     "slide_type": "skip"
    }
   },
   "outputs": [
    {
     "ename": "LoadError",
     "evalue": "syntax: invalid syntax \"catch symbol(x)\"",
     "output_type": "error",
     "traceback": [
      "syntax: invalid syntax \"catch symbol(x)\"",
      ""
     ]
    }
   ],
   "source": [
    "\n",
    "function read_path(p_str)\n",
    "    tokens = [try parsefloat(x) catch symbol(x) end for x in split(p_str, r\"[\\s,]+\")]\n",
    "    path(tokens)\n",
    "end\n",
    "\n",
    "# The fish was drawn on a canvas of 260x260 units, we will specify this\n",
    "# by wrapping the path in a Unit box of this dimension\n",
    "\n",
    "fish = compose(context(units=UnitBox(260, 260)), stroke(\"black\"),\n",
    "            read_path(strip(readall(\"fish.path\"))))\n"
   ]
  },
  {
   "cell_type": "markdown",
   "metadata": {},
   "source": [
    "The zoomout function draws its argument in a smaller context in the middle of the canvas, and marks the extents of the smaller context with a dotted rectangle."
   ]
  },
  {
   "cell_type": "code",
   "execution_count": 49,
   "metadata": {
    "slideshow": {
     "slide_type": "skip"
    }
   },
   "outputs": [
    {
     "ename": "UndefVarError",
     "evalue": "UndefVarError: fish not defined",
     "output_type": "error",
     "traceback": [
      "UndefVarError: fish not defined",
      "",
      "Stacktrace:",
      " [1] top-level scope at In[49]:6"
     ]
    }
   ],
   "source": [
    "# Utility function to zoom out and look at the context\n",
    "zoomout(pic) = compose(context(),\n",
    "                (context(0.2, 0.2, 0.6, 0.6), pic),\n",
    "                (context(0.2, 0.2, 0.6, 0.6), fill(nothing), stroke(\"black\"), strokedash([0.5mm, 0.5mm]),\n",
    "                    polygon([(0, 0), (1, 0), (1, 1), (0, 1)])))\n",
    "\n",
    "zoomout(fish)"
   ]
  },
  {
   "cell_type": "code",
   "execution_count": 50,
   "metadata": {},
   "outputs": [
    {
     "ename": "LoadError",
     "evalue": "UndefVarError: @manipulate not defined",
     "output_type": "error",
     "traceback": [
      "UndefVarError: @manipulate not defined",
      ""
     ]
    }
   ],
   "source": [
    "\n",
    "rotatable(pic) = @manipulate for θ=0:0.001:2π\n",
    "    compose(context(rotation=Rotation(θ)), pic)\n",
    "end\n"
   ]
  },
  {
   "cell_type": "code",
   "execution_count": 51,
   "metadata": {},
   "outputs": [
    {
     "ename": "UndefVarError",
     "evalue": "UndefVarError: fish not defined",
     "output_type": "error",
     "traceback": [
      "UndefVarError: fish not defined",
      "",
      "Stacktrace:",
      " [1] top-level scope at In[51]:1"
     ]
    }
   ],
   "source": [
    "rotatable(fish |> zoomout)"
   ]
  },
  {
   "cell_type": "markdown",
   "metadata": {},
   "source": [
    "## In conclusion\n",
    "\n",
    "We described Escher's *Square Limit* from the description of its smaller parts, which in turn were described in terms of their smaller parts.\n",
    "\n",
    "This seemed simple because we chose to talk in terms of an *algebra* to describe pictures. The primitives `rot`, `flip`, `fliprot45`, `above`, `beside` and `over` fit the job perfectly.\n",
    "\n",
    "We were able to describe these primitves in terms of `compose` `contexts`, which the Compose library knows how to render.\n",
    "\n",
    "Denotation can be an easy way to describe a system as well as a practical implementation method.\n",
    "\n",
    "[Abstraction barriers](https://mitpress.mit.edu/sicp/full-text/sicp/book/node29.html) are useful tools that can reduce the cognitive overhead on the programmer. It entails creating layers consisting of functions which only use functions in the same layer or layers below in their own implementation. The layers in our language were:\n",
    "\n",
    "    ------------------[ squarelimit ]------------------\n",
    "    -------------[ quartet, cycle, nonet ]-------------\n",
    "    ---[ rot, flip, fliprot45, above, beside, over ]---\n",
    "    -------[ compose, context, line, path,... ]--------\n",
    "    \n",
    "Drawing this diagram out is a useful way to begin building any library.\n"
   ]
  }
 ],
 "metadata": {
  "kernelspec": {
   "display_name": "Julia 1.0.0",
   "language": "julia",
   "name": "julia-1.0"
  },
  "language_info": {
   "file_extension": ".jl",
   "mimetype": "application/julia",
   "name": "julia",
   "version": "1.0.0"
  }
 },
 "nbformat": 4,
 "nbformat_minor": 1
}
