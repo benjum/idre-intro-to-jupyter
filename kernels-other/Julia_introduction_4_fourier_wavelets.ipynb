{
 "cells": [
  {
   "cell_type": "markdown",
   "metadata": {},
   "source": [
    "Image Approximation with Fourier and Wavelets\n",
    "=============================================\n",
    "Taken from: http://www.numerical-tours.com/julia/\n",
    "\n",
    "*Important:* Please read the [installation page](http://gpeyre.github.io/numerical-tours/installation_python/) for details about how to install the toolboxes.\n",
    "$\\newcommand{\\dotp}[2]{\\langle #1, #2 \\rangle}$\n",
    "$\\newcommand{\\enscond}[2]{\\lbrace #1, #2 \\rbrace}$\n",
    "$\\newcommand{\\pd}[2]{ \\frac{ \\partial #1}{\\partial #2} }$\n",
    "$\\newcommand{\\umin}[1]{\\underset{#1}{\\min}\\;}$\n",
    "$\\newcommand{\\umax}[1]{\\underset{#1}{\\max}\\;}$\n",
    "$\\newcommand{\\umin}[1]{\\underset{#1}{\\min}\\;}$\n",
    "$\\newcommand{\\uargmin}[1]{\\underset{#1}{argmin}\\;}$\n",
    "$\\newcommand{\\norm}[1]{\\|#1\\|}$\n",
    "$\\newcommand{\\abs}[1]{\\left|#1\\right|}$\n",
    "$\\newcommand{\\choice}[1]{ \\left\\{  \\begin{array}{l} #1 \\end{array} \\right. }$\n",
    "$\\newcommand{\\pa}[1]{\\left(#1\\right)}$\n",
    "$\\newcommand{\\diag}[1]{{diag}\\left( #1 \\right)}$\n",
    "$\\newcommand{\\qandq}{\\quad\\text{and}\\quad}$\n",
    "$\\newcommand{\\qwhereq}{\\quad\\text{where}\\quad}$\n",
    "$\\newcommand{\\qifq}{ \\quad \\text{if} \\quad }$\n",
    "$\\newcommand{\\qarrq}{ \\quad \\Longrightarrow \\quad }$\n",
    "$\\newcommand{\\ZZ}{\\mathbb{Z}}$\n",
    "$\\newcommand{\\CC}{\\mathbb{C}}$\n",
    "$\\newcommand{\\RR}{\\mathbb{R}}$\n",
    "$\\newcommand{\\EE}{\\mathbb{E}}$\n",
    "$\\newcommand{\\Zz}{\\mathcal{Z}}$\n",
    "$\\newcommand{\\Ww}{\\mathcal{W}}$\n",
    "$\\newcommand{\\Vv}{\\mathcal{V}}$\n",
    "$\\newcommand{\\Nn}{\\mathcal{N}}$\n",
    "$\\newcommand{\\NN}{\\mathcal{N}}$\n",
    "$\\newcommand{\\Hh}{\\mathcal{H}}$\n",
    "$\\newcommand{\\Bb}{\\mathcal{B}}$\n",
    "$\\newcommand{\\Ee}{\\mathcal{E}}$\n",
    "$\\newcommand{\\Cc}{\\mathcal{C}}$\n",
    "$\\newcommand{\\Gg}{\\mathcal{G}}$\n",
    "$\\newcommand{\\Ss}{\\mathcal{S}}$\n",
    "$\\newcommand{\\Pp}{\\mathcal{P}}$\n",
    "$\\newcommand{\\Ff}{\\mathcal{F}}$\n",
    "$\\newcommand{\\Xx}{\\mathcal{X}}$\n",
    "$\\newcommand{\\Mm}{\\mathcal{M}}$\n",
    "$\\newcommand{\\Ii}{\\mathcal{I}}$\n",
    "$\\newcommand{\\Dd}{\\mathcal{D}}$\n",
    "$\\newcommand{\\Ll}{\\mathcal{L}}$\n",
    "$\\newcommand{\\Tt}{\\mathcal{T}}$\n",
    "$\\newcommand{\\si}{\\sigma}$\n",
    "$\\newcommand{\\al}{\\alpha}$\n",
    "$\\newcommand{\\la}{\\lambda}$\n",
    "$\\newcommand{\\ga}{\\gamma}$\n",
    "$\\newcommand{\\Ga}{\\Gamma}$\n",
    "$\\newcommand{\\La}{\\Lambda}$\n",
    "$\\newcommand{\\si}{\\sigma}$\n",
    "$\\newcommand{\\Si}{\\Sigma}$\n",
    "$\\newcommand{\\be}{\\beta}$\n",
    "$\\newcommand{\\de}{\\delta}$\n",
    "$\\newcommand{\\De}{\\Delta}$\n",
    "$\\newcommand{\\phi}{\\varphi}$\n",
    "$\\newcommand{\\th}{\\theta}$\n",
    "$\\newcommand{\\om}{\\omega}$\n",
    "$\\newcommand{\\Om}{\\Omega}$"
   ]
  },
  {
   "cell_type": "markdown",
   "metadata": {},
   "source": [
    "This numerical tour overviews the use of Fourier and wavelets for image\n",
    "approximation."
   ]
  },
  {
   "cell_type": "code",
   "execution_count": 1,
   "metadata": {
    "scrolled": true
   },
   "outputs": [
    {
     "ename": "ArgumentError",
     "evalue": "ArgumentError: Package PyPlot not found in current path:\n- Run `Pkg.add(\"PyPlot\")` to install the PyPlot package.\n",
     "output_type": "error",
     "traceback": [
      "ArgumentError: Package PyPlot not found in current path:\n- Run `Pkg.add(\"PyPlot\")` to install the PyPlot package.\n",
      "",
      "Stacktrace:",
      " [1] require(::Module, ::Symbol) at ./loading.jl:817",
      " [2] top-level scope at In[1]:1"
     ]
    }
   ],
   "source": [
    "using PyPlot\n",
    "using NtToolBox\n",
    "# using Autoreload\n",
    "# arequire(\"NtToolBox\")"
   ]
  },
  {
   "cell_type": "markdown",
   "metadata": {},
   "source": [
    "*Note:* to measure the error of an image $f$ with its\n",
    "approximation $f_M$, we use the SNR measure, defined as\n",
    "\n",
    "$$ \\text{SNR}(f,f_M) = -20\\log_{10} \\pa{ \\frac{ \\norm{f-f_M} }{ \\norm{f} } },  $$\n",
    "\n",
    "which is a quantity expressed in decibels (dB).\n",
    "The higer the SNR, the better the quality.\n",
    "\n",
    "Image Loading and Displaying\n",
    "----------------------------\n",
    "\n",
    "\n",
    "First we load an image $ f \\in \\RR^N $ of $ N = N_0 \\times N_0 $ pixels."
   ]
  },
  {
   "cell_type": "code",
   "execution_count": 2,
   "metadata": {},
   "outputs": [
    {
     "ename": "UndefVarError",
     "evalue": "UndefVarError: load_image not defined",
     "output_type": "error",
     "traceback": [
      "UndefVarError: load_image not defined",
      "",
      "Stacktrace:",
      " [1] top-level scope at In[2]:2"
     ]
    }
   ],
   "source": [
    "n0 = 512\n",
    "f = rescale(load_image(\"NtToolBox/src/data/lena.png\", n0));"
   ]
  },
  {
   "cell_type": "markdown",
   "metadata": {},
   "source": [
    "Display the original image."
   ]
  },
  {
   "cell_type": "code",
   "execution_count": 3,
   "metadata": {},
   "outputs": [
    {
     "ename": "UndefVarError",
     "evalue": "UndefVarError: figure not defined",
     "output_type": "error",
     "traceback": [
      "UndefVarError: figure not defined",
      "",
      "Stacktrace:",
      " [1] top-level scope at In[3]:1"
     ]
    }
   ],
   "source": [
    "figure(figsize = (5,5))\n",
    "imageplot(f, \"Image f\");"
   ]
  },
  {
   "cell_type": "markdown",
   "metadata": {},
   "source": [
    "Display a zoom in the middle."
   ]
  },
  {
   "cell_type": "code",
   "execution_count": 4,
   "metadata": {},
   "outputs": [
    {
     "ename": "UndefVarError",
     "evalue": "UndefVarError: figure not defined",
     "output_type": "error",
     "traceback": [
      "UndefVarError: figure not defined",
      "",
      "Stacktrace:",
      " [1] top-level scope at In[4]:1"
     ]
    }
   ],
   "source": [
    "figure(figsize = (5,5))\n",
    "imageplot(f[Int(n0/2 - 32) : Int(n0/2 + 32), Int(n0/2 - 32) : Int(n0/2 + 32)], \"Zoom\")"
   ]
  },
  {
   "cell_type": "markdown",
   "metadata": {},
   "source": [
    "An image is a 2D array, it can be modified as a matrix."
   ]
  },
  {
   "cell_type": "code",
   "execution_count": 5,
   "metadata": {},
   "outputs": [
    {
     "ename": "UndefVarError",
     "evalue": "UndefVarError: figure not defined",
     "output_type": "error",
     "traceback": [
      "UndefVarError: figure not defined",
      "",
      "Stacktrace:",
      " [1] top-level scope at In[5]:1"
     ]
    }
   ],
   "source": [
    "figure(figsize = (8,8))\n",
    "imageplot(-f, \"-f\", [1, 2, 1])\n",
    "imageplot(f[end:-1:1, :], \"Flipped\", [1, 2, 2])"
   ]
  },
  {
   "cell_type": "markdown",
   "metadata": {},
   "source": [
    "Blurring is achieved by computing a convolution $f \\star h$ with a kernel $h$.\n",
    "\n",
    "\n",
    "Compute the low pass kernel."
   ]
  },
  {
   "cell_type": "code",
   "execution_count": 6,
   "metadata": {},
   "outputs": [],
   "source": [
    "k = 9; #size of the kernel\n",
    "h = ones(k, k)\n",
    "h = h/sum(h); #normalize"
   ]
  },
  {
   "cell_type": "markdown",
   "metadata": {},
   "source": [
    "Compute the convolution $f \\star h$."
   ]
  },
  {
   "cell_type": "code",
   "execution_count": 7,
   "metadata": {},
   "outputs": [
    {
     "ename": "UndefVarError",
     "evalue": "UndefVarError: f not defined",
     "output_type": "error",
     "traceback": [
      "UndefVarError: f not defined",
      "",
      "Stacktrace:",
      " [1] top-level scope at In[7]:1"
     ]
    }
   ],
   "source": [
    "fh = conv2(Array{Float64, 2}(f), h);"
   ]
  },
  {
   "cell_type": "markdown",
   "metadata": {},
   "source": [
    "Display."
   ]
  },
  {
   "cell_type": "code",
   "execution_count": 8,
   "metadata": {},
   "outputs": [
    {
     "ename": "UndefVarError",
     "evalue": "UndefVarError: figure not defined",
     "output_type": "error",
     "traceback": [
      "UndefVarError: figure not defined",
      "",
      "Stacktrace:",
      " [1] top-level scope at In[8]:1"
     ]
    }
   ],
   "source": [
    "figure(figsize = (5,5))\n",
    "imageplot(fh, \"Blurred image\")"
   ]
  },
  {
   "cell_type": "markdown",
   "metadata": {},
   "source": [
    "Fourier Transform\n",
    "-----------------\n",
    "The Fourier orthonormal basis is defined as\n",
    "$$ \\psi_m(k) = \\frac{1}{\\sqrt{N}}e^{\\frac{2i\\pi}{N_0} \\dotp{m}{k} } $$\n",
    "where $0 \\leq k_1,k_2 < N_0$ are position indexes,\n",
    "and $0 \\leq m_1,m_2 < N_0$ are frequency indexes.\n",
    "\n",
    "\n",
    "The Fourier transform $\\hat f$ is the projection of the image on this Fourier\n",
    "basis\n",
    "\n",
    "$$ \\hat f(m) = \\dotp{f}{\\psi_m}. $$\n",
    "\n",
    "\n",
    "The Fourier transform is computed in $ O(N \\log(N)) $ operation using the FFT algorithm\n",
    "(Fast Fourier Transform).\n",
    "Note the normalization by $\\sqrt{N}=N_0$ to make the transform orthonormal."
   ]
  },
  {
   "cell_type": "code",
   "execution_count": 9,
   "metadata": {},
   "outputs": [
    {
     "ename": "UndefVarError",
     "evalue": "UndefVarError: plan_fft not defined",
     "output_type": "error",
     "traceback": [
      "UndefVarError: plan_fft not defined",
      "",
      "Stacktrace:",
      " [1] top-level scope at In[9]:1"
     ]
    }
   ],
   "source": [
    "F = plan_fft(f)\n",
    "F = (F*f)/n0;"
   ]
  },
  {
   "cell_type": "markdown",
   "metadata": {},
   "source": [
    "We check this conservation of the energy."
   ]
  },
  {
   "cell_type": "code",
   "execution_count": 10,
   "metadata": {},
   "outputs": [
    {
     "ename": "LoadError",
     "evalue": "UndefVarError: @sprintf not defined",
     "output_type": "error",
     "traceback": [
      "UndefVarError: @sprintf not defined",
      ""
     ]
    }
   ],
   "source": [
    "println(@sprintf(\"Energy of Image:   %f\", norm(f)))\n",
    "println(@sprintf(\"Energy of Fourier:   %f\", norm(F)))"
   ]
  },
  {
   "cell_type": "markdown",
   "metadata": {},
   "source": [
    "Compute the logarithm of the Fourier magnitude $ \\log\\left(\\abs{\\hat f(m)} +\n",
    "\\epsilon\\right) $, for some small $\\epsilon$."
   ]
  },
  {
   "cell_type": "code",
   "execution_count": 11,
   "metadata": {},
   "outputs": [
    {
     "ename": "UndefVarError",
     "evalue": "UndefVarError: F not defined",
     "output_type": "error",
     "traceback": [
      "UndefVarError: F not defined",
      "",
      "Stacktrace:",
      " [1] top-level scope at In[11]:1"
     ]
    }
   ],
   "source": [
    "L = fftshift(log(abs(F) + 1e-1));"
   ]
  },
  {
   "cell_type": "markdown",
   "metadata": {},
   "source": [
    "Display. Note that we use the function fftshift to put the 0 low frequency in the\n",
    "middle."
   ]
  },
  {
   "cell_type": "code",
   "execution_count": 12,
   "metadata": {},
   "outputs": [
    {
     "ename": "UndefVarError",
     "evalue": "UndefVarError: figure not defined",
     "output_type": "error",
     "traceback": [
      "UndefVarError: figure not defined",
      "",
      "Stacktrace:",
      " [1] top-level scope at In[12]:1"
     ]
    }
   ],
   "source": [
    "figure(figsize = (5,5))\n",
    "imageplot(L, \"Log(Fourier transform)\")"
   ]
  },
  {
   "cell_type": "markdown",
   "metadata": {},
   "source": [
    "Linear Fourier Approximation\n",
    "----------------------------\n",
    "An approximation is obtained by retaining a certain set of index $I_M$\n",
    "\n",
    "$$ f_M = \\sum_{ m \\in I_M } \\dotp{f}{\\psi_m} \\psi_m. $$\n",
    "\n",
    "\n",
    "Linear approximation is obtained by retaining a *fixed* set $I_M$\n",
    "of $M = \\abs{I_M}$ coefficients. The important point is that $I_M$\n",
    "does not depend on the image $f$ to be approximated.\n",
    "\n",
    "\n",
    "For the Fourier transform, a low pass linear approximation\n",
    "is obtained by keeping only the frequencies within a square.\n",
    "\n",
    "$$ I_M = \\enscond{m=(m_1,m_2)}{ -q/2 \\leq m_1,m_2 < q/2 } $$\n",
    "where $ q = \\sqrt{M} $.\n",
    "\n",
    "\n",
    "This can be achieved by computing the Fourier transform,\n",
    "setting to zero the $N-M$ coefficients outside the square $I_M$\n",
    "and then inverting the Fourier transform.\n",
    "\n",
    "\n",
    "Number $M$ of kept coefficients."
   ]
  },
  {
   "cell_type": "code",
   "execution_count": 13,
   "metadata": {},
   "outputs": [],
   "source": [
    "M = Base.div(n0^2, 64);"
   ]
  },
  {
   "cell_type": "markdown",
   "metadata": {},
   "source": [
    "__Exercise 1__\n",
    "\n",
    "Perform the linear Fourier approximation with $M$ coefficients.\n",
    "Store the result in the variable $f_M$."
   ]
  },
  {
   "cell_type": "code",
   "execution_count": 14,
   "metadata": {},
   "outputs": [
    {
     "ename": "ErrorException",
     "evalue": "could not open file /home/jovyan/work/jupyter-class/def-include/kernels-other/NtSolutions/introduction_4_fourier_wavelets/exo1.jl",
     "output_type": "error",
     "traceback": [
      "could not open file /home/jovyan/work/jupyter-class/def-include/kernels-other/NtSolutions/introduction_4_fourier_wavelets/exo1.jl",
      "",
      "Stacktrace:",
      " [1] include at ./boot.jl:317 [inlined]",
      " [2] include_relative(::Module, ::String) at ./loading.jl:1038",
      " [3] include(::Module, ::String) at ./sysimg.jl:29",
      " [4] include(::String) at ./client.jl:388",
      " [5] top-level scope at In[14]:1"
     ]
    }
   ],
   "source": [
    "include(\"NtSolutions/introduction_4_fourier_wavelets/exo1.jl\")"
   ]
  },
  {
   "cell_type": "code",
   "execution_count": 15,
   "metadata": {},
   "outputs": [],
   "source": [
    "## Insert your code here."
   ]
  },
  {
   "cell_type": "markdown",
   "metadata": {},
   "source": [
    "Compare two 1D profile (lines of the image).\n",
    "This shows the strong ringing artifact of the linea approximation."
   ]
  },
  {
   "cell_type": "code",
   "execution_count": 16,
   "metadata": {},
   "outputs": [
    {
     "ename": "UndefVarError",
     "evalue": "UndefVarError: figure not defined",
     "output_type": "error",
     "traceback": [
      "UndefVarError: figure not defined",
      "",
      "Stacktrace:",
      " [1] top-level scope at In[16]:1"
     ]
    }
   ],
   "source": [
    "figure(figsize = (7, 6))\n",
    "\n",
    "subplot(2, 1, 1)\n",
    "plot(f[: , Base.div(n0, 2)])\n",
    "xlim(0, n0)\n",
    "title(\"f\")\n",
    "\n",
    "subplot(2, 1, 2)\n",
    "plot(fM[: , Base.div(n0, 2)])\n",
    "xlim(0, n0)\n",
    "title(\"f_M\")\n",
    "\n",
    "show()"
   ]
  },
  {
   "cell_type": "markdown",
   "metadata": {},
   "source": [
    "Non-linear Fourier Approximation\n",
    "--------------------------------\n",
    "Non-linear approximation is obtained by keeping the $M$ largest\n",
    "coefficients. This is equivalently computed using a thresholding of the\n",
    "coefficients\n",
    "$$ I_M = \\enscond{m}{ \\abs{\\dotp{f}{\\psi_m}}>T }. $$\n",
    "\n",
    "\n",
    "Set a threshold $T>0$."
   ]
  },
  {
   "cell_type": "code",
   "execution_count": 17,
   "metadata": {},
   "outputs": [],
   "source": [
    "T = .2;"
   ]
  },
  {
   "cell_type": "markdown",
   "metadata": {},
   "source": [
    "Compute the Fourier transform."
   ]
  },
  {
   "cell_type": "code",
   "execution_count": 18,
   "metadata": {},
   "outputs": [
    {
     "ename": "UndefVarError",
     "evalue": "UndefVarError: plan_fft not defined",
     "output_type": "error",
     "traceback": [
      "UndefVarError: plan_fft not defined",
      "",
      "Stacktrace:",
      " [1] top-level scope at In[18]:1"
     ]
    }
   ],
   "source": [
    "F = plan_fft(f)\n",
    "F = (F*f)/n0;"
   ]
  },
  {
   "cell_type": "markdown",
   "metadata": {},
   "source": [
    "Do the hard thresholding."
   ]
  },
  {
   "cell_type": "code",
   "execution_count": 19,
   "metadata": {},
   "outputs": [
    {
     "ename": "UndefVarError",
     "evalue": "UndefVarError: F not defined",
     "output_type": "error",
     "traceback": [
      "UndefVarError: F not defined",
      "",
      "Stacktrace:",
      " [1] top-level scope at In[19]:1"
     ]
    }
   ],
   "source": [
    "FT = F .* (abs(F) .> T);"
   ]
  },
  {
   "cell_type": "markdown",
   "metadata": {},
   "source": [
    "Display. Note that we use the function fftshift to put the 0 low frequency in the\n",
    "middle."
   ]
  },
  {
   "cell_type": "code",
   "execution_count": 20,
   "metadata": {},
   "outputs": [
    {
     "ename": "UndefVarError",
     "evalue": "UndefVarError: FT not defined",
     "output_type": "error",
     "traceback": [
      "UndefVarError: FT not defined",
      "",
      "Stacktrace:",
      " [1] top-level scope at In[20]:1"
     ]
    }
   ],
   "source": [
    "L = fftshift(log(abs(FT) + 1e-1))\n",
    "figure(figsize = (5,5))\n",
    "imageplot(L, \"thresholded Log(Fourier transform)\")"
   ]
  },
  {
   "cell_type": "markdown",
   "metadata": {},
   "source": [
    "Inverse Fourier transform to obtain $f_M$."
   ]
  },
  {
   "cell_type": "code",
   "execution_count": 21,
   "metadata": {},
   "outputs": [
    {
     "ename": "UndefVarError",
     "evalue": "UndefVarError: plan_ifft not defined",
     "output_type": "error",
     "traceback": [
      "UndefVarError: plan_ifft not defined",
      "",
      "Stacktrace:",
      " [1] top-level scope at In[21]:1"
     ]
    }
   ],
   "source": [
    "fM = plan_ifft(FT)\n",
    "fM = real(n0*(fM*FT));"
   ]
  },
  {
   "cell_type": "markdown",
   "metadata": {},
   "source": [
    "Display."
   ]
  },
  {
   "cell_type": "code",
   "execution_count": 22,
   "metadata": {},
   "outputs": [
    {
     "ename": "UndefVarError",
     "evalue": "UndefVarError: figure not defined",
     "output_type": "error",
     "traceback": [
      "UndefVarError: figure not defined",
      "",
      "Stacktrace:",
      " [1] top-level scope at In[22]:1"
     ]
    }
   ],
   "source": [
    "figure(figsize = (5,5))\n",
    "imageplot(clamP(fM), @sprintf(\"Linear, Fourier, SNR = %.1f dB\", snr(f, fM)))"
   ]
  },
  {
   "cell_type": "markdown",
   "metadata": {},
   "source": [
    "Given a $T$, the number of coefficients is obtained by counting the\n",
    "non-thresholded coefficients $ \\abs{I_M} $."
   ]
  },
  {
   "cell_type": "code",
   "execution_count": 23,
   "metadata": {},
   "outputs": [
    {
     "ename": "UndefVarError",
     "evalue": "UndefVarError: FT not defined",
     "output_type": "error",
     "traceback": [
      "UndefVarError: FT not defined",
      "",
      "Stacktrace:",
      " [1] top-level scope at In[23]:1"
     ]
    }
   ],
   "source": [
    "m = sum(FT .!= 0)\n",
    "print(@sprintf(\"M/N = 1/%d\" ,(n0^2)/m))"
   ]
  },
  {
   "cell_type": "markdown",
   "metadata": {},
   "source": [
    "__Exercise 2__\n",
    "\n",
    "Compute the value of the threshold $T$ so that the number of\n",
    "coefficients is $M$. Display the corresponding approximation\n",
    "$f_M$."
   ]
  },
  {
   "cell_type": "code",
   "execution_count": 24,
   "metadata": {},
   "outputs": [
    {
     "ename": "ErrorException",
     "evalue": "could not open file /home/jovyan/work/jupyter-class/def-include/kernels-other/NtSolutions/introduction_4_fourier_wavelets/exo2.jl",
     "output_type": "error",
     "traceback": [
      "could not open file /home/jovyan/work/jupyter-class/def-include/kernels-other/NtSolutions/introduction_4_fourier_wavelets/exo2.jl",
      "",
      "Stacktrace:",
      " [1] include at ./boot.jl:317 [inlined]",
      " [2] include_relative(::Module, ::String) at ./loading.jl:1038",
      " [3] include(::Module, ::String) at ./sysimg.jl:29",
      " [4] include(::String) at ./client.jl:388",
      " [5] top-level scope at In[24]:1"
     ]
    }
   ],
   "source": [
    "include(\"NtSolutions/introduction_4_fourier_wavelets/exo2.jl\")"
   ]
  },
  {
   "cell_type": "code",
   "execution_count": 25,
   "metadata": {},
   "outputs": [],
   "source": [
    "## Insert your code here."
   ]
  },
  {
   "cell_type": "markdown",
   "metadata": {},
   "source": [
    "Wavelet Transform\n",
    "-----------------\n",
    "A wavelet basis $ \\Bb = \\{ \\psi_m \\}_m $\n",
    "is obtained over the continuous domain by translating and\n",
    "dilating three mother wavelet functions $ \\{\\psi^V,\\psi^H,\\psi^D\\} $.\n",
    "\n",
    "\n",
    "Each wavelet atom is defined as\n",
    "$$ \\psi_m(x) = \\psi_{j,n}^k(x) = \\frac{1}{2^j}\\psi^k\\pa{ \\frac{x-2^j n}{2^j} } $$\n",
    "\n",
    "The scale (size of the support) is $2^j$ and the position is\n",
    "$2^j(n_1,n_2)$. The index is $ m=(k,j,n) $ for $\\{ j \\leq 0 \\}$.\n",
    "\n",
    "\n",
    "The wavelet transform computes all the inner products\n",
    "$ \\{ \\dotp{f}{\\psi_{j,n}^k} \\}_{k,j,n} $.\n",
    "\n",
    "\n",
    "Set the minimum scale for the transform to be 0."
   ]
  },
  {
   "cell_type": "code",
   "execution_count": 26,
   "metadata": {},
   "outputs": [],
   "source": [
    "Jmin = 0;"
   ]
  },
  {
   "cell_type": "markdown",
   "metadata": {},
   "source": [
    "Perform the wavelet transform,  $f_w$ stores all the wavelet coefficients."
   ]
  },
  {
   "cell_type": "code",
   "execution_count": 27,
   "metadata": {},
   "outputs": [
    {
     "ename": "UndefVarError",
     "evalue": "UndefVarError: NtToolBox not defined",
     "output_type": "error",
     "traceback": [
      "UndefVarError: NtToolBox not defined",
      "",
      "Stacktrace:",
      " [1] top-level scope at In[27]:1"
     ]
    }
   ],
   "source": [
    "fw = NtToolBox.perform_wavelet_transf(f, Jmin, + 1);"
   ]
  },
  {
   "cell_type": "code",
   "execution_count": 28,
   "metadata": {},
   "outputs": [],
   "source": [
    "# using NPZ\n",
    "# test = npzread(\"pgsh.npy\")"
   ]
  },
  {
   "cell_type": "markdown",
   "metadata": {},
   "source": [
    "Display the transformed coefficients."
   ]
  },
  {
   "cell_type": "code",
   "execution_count": 29,
   "metadata": {},
   "outputs": [
    {
     "ename": "UndefVarError",
     "evalue": "UndefVarError: figure not defined",
     "output_type": "error",
     "traceback": [
      "UndefVarError: figure not defined",
      "",
      "Stacktrace:",
      " [1] top-level scope at In[29]:1"
     ]
    }
   ],
   "source": [
    "figure(figsize = (10, 10))\n",
    "\n",
    "NtToolBox.plot_wavelet(fw)\n",
    "title(\"Wavelet coefficients\")"
   ]
  },
  {
   "cell_type": "markdown",
   "metadata": {},
   "source": [
    "Wavelet Approximation\n",
    "---------------------\n",
    "Linear wavelet approximation with $M=2^{-j_0}$ coefficients is obtained\n",
    "by keeping only the coarse scale (large support) wavelets:\n",
    "\n",
    "$$ I_M = \\enscond{(k,j,n)}{ j \\geq j_0 }. $$\n",
    "\n",
    "\n",
    "It corresponds to setting to zero all the coefficients excepted those\n",
    "that are on the upper left corner of $f_w$."
   ]
  },
  {
   "cell_type": "markdown",
   "metadata": {},
   "source": [
    "__Exercise 3__\n",
    "\n",
    "Perform linear approximation with $M$ wavelet coefficients."
   ]
  },
  {
   "cell_type": "code",
   "execution_count": 30,
   "metadata": {},
   "outputs": [
    {
     "ename": "ErrorException",
     "evalue": "could not open file /home/jovyan/work/jupyter-class/def-include/kernels-other/NtSolutions/introduction_4_fourier_wavelets/exo3.jl",
     "output_type": "error",
     "traceback": [
      "could not open file /home/jovyan/work/jupyter-class/def-include/kernels-other/NtSolutions/introduction_4_fourier_wavelets/exo3.jl",
      "",
      "Stacktrace:",
      " [1] include at ./boot.jl:317 [inlined]",
      " [2] include_relative(::Module, ::String) at ./loading.jl:1038",
      " [3] include(::Module, ::String) at ./sysimg.jl:29",
      " [4] include(::String) at ./client.jl:388",
      " [5] top-level scope at In[30]:1"
     ]
    }
   ],
   "source": [
    "include(\"NtSolutions/introduction_4_fourier_wavelets/exo3.jl\")"
   ]
  },
  {
   "cell_type": "code",
   "execution_count": 31,
   "metadata": {},
   "outputs": [],
   "source": [
    "## Insert your code here."
   ]
  },
  {
   "cell_type": "markdown",
   "metadata": {},
   "source": [
    "A non-linear approximation is obtained by keeping the $M$ largest wavelet\n",
    "coefficients.\n",
    "\n",
    "\n",
    "As already said, this is equivalently computed by a non-linear hard\n",
    "thresholding.\n",
    "\n",
    "\n",
    "Select a threshold."
   ]
  },
  {
   "cell_type": "code",
   "execution_count": 32,
   "metadata": {},
   "outputs": [
    {
     "data": {
      "text/plain": [
       "0.15"
      ]
     },
     "execution_count": 32,
     "metadata": {},
     "output_type": "execute_result"
    }
   ],
   "source": [
    "T = .15"
   ]
  },
  {
   "cell_type": "markdown",
   "metadata": {},
   "source": [
    "Perform hard thresholding."
   ]
  },
  {
   "cell_type": "code",
   "execution_count": 33,
   "metadata": {},
   "outputs": [
    {
     "ename": "UndefVarError",
     "evalue": "UndefVarError: fw not defined",
     "output_type": "error",
     "traceback": [
      "UndefVarError: fw not defined",
      "",
      "Stacktrace:",
      " [1] top-level scope at In[33]:1"
     ]
    }
   ],
   "source": [
    "fwT = fw.*(abs(fw) .> T);"
   ]
  },
  {
   "cell_type": "markdown",
   "metadata": {},
   "source": [
    "Display the thresholded coefficients."
   ]
  },
  {
   "cell_type": "code",
   "execution_count": 34,
   "metadata": {},
   "outputs": [
    {
     "ename": "UndefVarError",
     "evalue": "UndefVarError: figure not defined",
     "output_type": "error",
     "traceback": [
      "UndefVarError: figure not defined",
      "",
      "Stacktrace:",
      " [1] top-level scope at In[34]:1"
     ]
    }
   ],
   "source": [
    "figure(figsize = (15,15))\n",
    "\n",
    "subplot(1, 2, 1)\n",
    "plot_wavelet(fw)\n",
    "title(\"Original coefficients\")\n",
    "\n",
    "subplot(1, 2, 2)\n",
    "plot_wavelet(fwT)\n",
    "title(\"Thresholded coefficients\")\n",
    "\n",
    "show()"
   ]
  },
  {
   "cell_type": "markdown",
   "metadata": {},
   "source": [
    "Perform reconstruction."
   ]
  },
  {
   "cell_type": "code",
   "execution_count": 35,
   "metadata": {},
   "outputs": [
    {
     "ename": "UndefVarError",
     "evalue": "UndefVarError: NtToolBox not defined",
     "output_type": "error",
     "traceback": [
      "UndefVarError: NtToolBox not defined",
      "",
      "Stacktrace:",
      " [1] top-level scope at In[35]:1"
     ]
    }
   ],
   "source": [
    "fM = NtToolBox.perform_wavelet_transf(fwT, Jmin, -1)"
   ]
  },
  {
   "cell_type": "markdown",
   "metadata": {},
   "source": [
    "Display approximation."
   ]
  },
  {
   "cell_type": "code",
   "execution_count": 36,
   "metadata": {},
   "outputs": [
    {
     "ename": "UndefVarError",
     "evalue": "UndefVarError: figure not defined",
     "output_type": "error",
     "traceback": [
      "UndefVarError: figure not defined",
      "",
      "Stacktrace:",
      " [1] top-level scope at In[36]:1"
     ]
    }
   ],
   "source": [
    "figure(figsize = (5, 5))\n",
    "imageplot(clamP(fM), @sprintf(\"Approximation, SNR,  = %.1f dB\", snr(f, fM)))"
   ]
  },
  {
   "cell_type": "markdown",
   "metadata": {},
   "source": [
    "__Exercise 4__\n",
    "\n",
    "Perform non-linear approximation with $M$ wavelet coefficients by\n",
    "chosing the correct value for $T$. Store the result in the variable\n",
    "$f_M$."
   ]
  },
  {
   "cell_type": "code",
   "execution_count": 37,
   "metadata": {},
   "outputs": [
    {
     "ename": "ErrorException",
     "evalue": "could not open file /home/jovyan/work/jupyter-class/def-include/kernels-other/NtSolutions/introduction_4_fourier_wavelets/exo4.jl",
     "output_type": "error",
     "traceback": [
      "could not open file /home/jovyan/work/jupyter-class/def-include/kernels-other/NtSolutions/introduction_4_fourier_wavelets/exo4.jl",
      "",
      "Stacktrace:",
      " [1] include at ./boot.jl:317 [inlined]",
      " [2] include_relative(::Module, ::String) at ./loading.jl:1038",
      " [3] include(::Module, ::String) at ./sysimg.jl:29",
      " [4] include(::String) at ./client.jl:388",
      " [5] top-level scope at In[37]:1"
     ]
    }
   ],
   "source": [
    "include(\"NtSolutions/introduction_4_fourier_wavelets/exo4.jl\")"
   ]
  },
  {
   "cell_type": "code",
   "execution_count": 38,
   "metadata": {},
   "outputs": [],
   "source": [
    "## Insert your code here."
   ]
  },
  {
   "cell_type": "markdown",
   "metadata": {},
   "source": [
    "Compare two 1D profile (lines of the image).\n",
    "Note how the ringing artifacts are reduced compared to the Fourier\n",
    "approximation."
   ]
  },
  {
   "cell_type": "code",
   "execution_count": 39,
   "metadata": {},
   "outputs": [
    {
     "ename": "UndefVarError",
     "evalue": "UndefVarError: figure not defined",
     "output_type": "error",
     "traceback": [
      "UndefVarError: figure not defined",
      "",
      "Stacktrace:",
      " [1] top-level scope at In[39]:1"
     ]
    }
   ],
   "source": [
    "figure(figsize = (7, 6))\n",
    "\n",
    "subplot(2, 1, 1)\n",
    "plot(f[:, Base.div(n0, 2)])\n",
    "title(\"f\")\n",
    "\n",
    "subplot(2, 1, 2)\n",
    "plot(fM[:, Base.div(n0, 2)])\n",
    "title(\"f_M\")\n",
    "\n",
    "show()"
   ]
  },
  {
   "cell_type": "raw",
   "metadata": {
    "collapsed": true
   },
   "source": [
    "<script>\n",
    "  $(document).ready(function(){\n",
    "      $('div.prompt').hide();\n",
    "  });\n",
    "</script>"
   ]
  }
 ],
 "metadata": {
  "anaconda-cloud": {},
  "kernelspec": {
   "display_name": "Julia 0.6.2",
   "language": "julia",
   "name": "julia-0.6"
  },
  "language_info": {
   "file_extension": ".jl",
   "mimetype": "application/julia",
   "name": "julia",
   "version": "0.6.2"
  }
 },
 "nbformat": 4,
 "nbformat_minor": 1
}
